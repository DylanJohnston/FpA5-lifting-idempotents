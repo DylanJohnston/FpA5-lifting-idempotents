{
 "cells": [
  {
   "cell_type": "markdown",
   "id": "77e5ecb6-f161-4f61-b034-43a8549bda32",
   "metadata": {},
   "source": [
    "In this notebook, coefficients of idempotents (in the relevant $\\mathbb{Z}_{(p)}A_5$) have been extracted directly from the paper to validate them and ensure no typos occurred during the write-up.\n",
    "\n",
    "The notebook has been preserved as it provides a quick way to obtain the coefficients of these idempotents, should they prove useful in the future."
   ]
  },
  {
   "cell_type": "code",
   "execution_count": 64,
   "id": "c9ca44fa-8743-48ea-80ec-09b78aa926c1",
   "metadata": {},
   "outputs": [],
   "source": [
    "def dimQA5e(e):\n",
    "    \"\"\"\n",
    "    Given idempotent e, find the dimension of QA_5e\n",
    "    \"\"\"\n",
    "    spanning_set = [g * e for g in A5]\n",
    "    L_2d_array = []\n",
    "    for ele in spanning_set:\n",
    "        element_of_spanning_set_dict = ele.monomial_coefficients() #dict of form {'<grp_element>': <coeff>}\n",
    "        coeffs_of_element_in_spanning_set = []\n",
    "        for g in A5:\n",
    "            try:\n",
    "                coeffs_of_element_in_spanning_set.append(element_of_spanning_set_dict[g])\n",
    "            except:\n",
    "                coeffs_of_element_in_spanning_set.append(0)\n",
    "        L_2d_array.append(coeffs_of_element_in_spanning_set)        \n",
    "    L_matrix = Matrix(QQ, L_2d_array)\n",
    "    rank_of_L_matrix = L_matrix.rank()\n",
    "    return rank_of_L_matrix\n",
    "\n",
    "A5 = AlternatingGroup(5)\n",
    "QA = GroupAlgebra(A5,QQ)"
   ]
  },
  {
   "cell_type": "markdown",
   "id": "a9619d46-dff5-4316-b73d-3176dd16e750",
   "metadata": {},
   "source": [
    "Idempotent lifts for indecomposable projective modules of $\\mathbb{F}_2A_5$"
   ]
  },
  {
   "cell_type": "code",
   "execution_count": 65,
   "id": "5fd03bf1-185b-4ca1-94db-99d0ed4101d8",
   "metadata": {},
   "outputs": [],
   "source": [
    "coeffs_2a = [1/5,1/5,1/5,1/5,1/5,0,0,0,0,0,0,0,0,0,0,0,0,0,0,0,0,0,0,0,0,0,0,0,0,0,\n",
    "             0,0,0,0,0,0,0,0,0,0,0,0,0,0,0,0,0,0,0,0,0,0,0,0,0,0,0,0,0,0]\n",
    "assert len(coeffs_2a) == 60\n",
    "grp_alg_element_2a = sum(coeff*QA(ele) for (coeff,ele) in zip(coeffs_2a,A5))\n",
    "assert grp_alg_element_2a**2 == grp_alg_element_2a\n",
    "assert dimQA5e(grp_alg_element_2a) == 12"
   ]
  },
  {
   "cell_type": "code",
   "execution_count": 66,
   "id": "d064f10d-56d7-440e-9688-43c2a5026b18",
   "metadata": {},
   "outputs": [],
   "source": [
    "coeffs_2b = [4/15,-4/95,4/19,-98/285,-26/285,-306/665,-166/665,146/1995,-12/665,496/1995,-12/665,496/1995,-306/665,-166/665,146/1995,-88/665,-103/1995,-8/105,-67/665,\n",
    "             -8/399,-22/95,-1/57 ,17/285 ,11/57,109/285,-103/1995,-8/105,-67/665,-8/399,-88/665,\n",
    "             4/19,-98/285,-26/285,4/15,-4/95,8/57,27/95,22/95,-6/19,-17/285,118/1995, 268/665,-344/1995,-211/1995,-127/1995,109/285,-22/95,-1/57,17/285,11/57,-17/285,\n",
    "             8/57,27/95,22/95,-6/19,-211/1995,-127/1995,118/1995, 268/665,-344/1995]  \n",
    "assert len(coeffs_2b) == 60\n",
    "grp_alg_element_2b = sum(coeff*QA(ele) for (coeff,ele) in zip(coeffs_2b,A5))\n",
    "assert grp_alg_element_2b**2 == grp_alg_element_2b\n",
    "assert dimQA5e(grp_alg_element_2b) == 16"
   ]
  },
  {
   "cell_type": "code",
   "execution_count": 67,
   "id": "f95df2fc-9815-46b6-af8b-684a5817c856",
   "metadata": {},
   "outputs": [],
   "source": [
    "coeffs_2c = [1/15,0,0,0,-1/15,1/15,0,0,0,-1/15,0,0,0,-1/15,1/15,1/15,0,0,0,-1/15,0,0,0,-1/15,1/15,0,-1/15,1/15,0,0,\n",
    "             0,-1/15,1/15,0,0,0,0,-1/15,1/15,0,0, 0,-1/15,1/15,0,0,0,0,-1/15,1/15,0,0,-1/15,1/15,0,0,-1/15,1/15,0,0]\n",
    "assert len(coeffs_2c) == 60\n",
    "grp_alg_element_2c = sum(coeff*QA(ele) for (coeff,ele) in zip(coeffs_2c,A5))\n",
    "assert grp_alg_element_2c**2 == grp_alg_element_2c\n",
    "assert dimQA5e(grp_alg_element_2c) == 4"
   ]
  },
  {
   "cell_type": "markdown",
   "id": "079aab35-3416-40da-a854-ef290cf86d84",
   "metadata": {},
   "source": [
    "Idempotent lifts for indecomposable projective modules of $\\mathbb{F}_3A_5$"
   ]
  },
  {
   "cell_type": "code",
   "execution_count": 68,
   "id": "fcde4eb1-9686-48b1-9690-0e1d46f4fe2c",
   "metadata": {},
   "outputs": [],
   "source": [
    "coeffs_3a = [1/10,3/80,3/80,3/80,3/80,-1/40,-1/40,3/80,3/80,-1/40,3/80,3/80,3/80,3/80,1/10,-1/40,3/80,-1/40,-1/40,3/80,3/80,-1/40,-1/40,3/80,-1/40,-1/40,3/80,-1/40,3/80,-1/40,\n",
    "             3/80,3/80,1/10,3/80,3/80,3/80,3/80,-1/40,-1/40,-1/40,3/80,3/80,3/80,1/10,3/80,-1/40,3/80,3/80,-1/40,-1/40,-1/40,-1/40,3/80,-1/40,3/80,3/80,-1/40,-1/40,-1/40,3/80]\n",
    "assert len(coeffs_3a) == 60\n",
    "grp_alg_element_3a = sum(coeff*QA(ele) for (coeff,ele) in zip(coeffs_3a,A5))\n",
    "assert grp_alg_element_3a**2 == grp_alg_element_3a\n",
    "assert dimQA5e(grp_alg_element_3a) == 6"
   ]
  },
  {
   "cell_type": "code",
   "execution_count": 69,
   "id": "d6bacac9-361c-438b-8a0c-55a1da1c6c21",
   "metadata": {},
   "outputs": [],
   "source": [
    "coeffs_3b = [1/10,0,0,0,1/10,0,1/10,0,0,0,0,0,0,-1/10,0,0,0,0,0,-1/10,0,0,0,1/10,1/10,0,0,0,1/10,0,\n",
    "            0,0,-1/10,-1/10,0,0,0,1/10,1/10,0,0,0,0,0,1/10,-1/10,0,0,0,-1/10,0,0,0,-1/10,-1/10,0,-1/10,0,0,0]\n",
    "assert len(coeffs_3b) == 60\n",
    "grp_alg_element_3b = sum(coeff*QA(ele) for (coeff,ele) in zip(coeffs_3b,A5))\n",
    "assert grp_alg_element_3b**2 == grp_alg_element_3b\n",
    "assert dimQA5e(grp_alg_element_3b) == 6"
   ]
  },
  {
   "cell_type": "code",
   "execution_count": 70,
   "id": "9b3112f0-2d57-4726-a88e-cc9914a48136",
   "metadata": {},
   "outputs": [],
   "source": [
    "coeffs_3c = [3/20,-3/80,-3/80,-3/80,-3/80,1/40,1/40,-3/80,-3/80,1/40,-3/80,-3/80,-3/80,-3/80,3/20,1/40,-3/80,1/40,1/40,-3/80,-3/80,1/40,1/40,-3/80,1/40,1/40,-3/80,1/40,-3/80,1/40,\n",
    "             -3/80,-3/80,3/20,-3/80,-3/80,-3/80,-3/80,1/40,1/40,1/40,-3/80,-3/80,-3/80,3/20,-3/80,1/40,-3/80,-3/80,1/40,1/40,1/40,1/40,-3/80,1/40,-3/80,-3/80,1/40,1/40,1/40,-3/80]\n",
    "assert len(coeffs_3c) == 60\n",
    "grp_alg_element_3c = sum(coeff*QA(ele) for (coeff,ele) in zip(coeffs_3c,A5))\n",
    "assert grp_alg_element_3c**2 == grp_alg_element_3c\n",
    "assert dimQA5e(grp_alg_element_3c) == 9"
   ]
  },
  {
   "cell_type": "markdown",
   "id": "797a97e7-24bb-4b20-8a5b-58d6e381b688",
   "metadata": {},
   "source": [
    "Idempotent lifts for indecomposable projective modules of $\\mathbb{F}_5A_5$"
   ]
  },
  {
   "cell_type": "code",
   "execution_count": 71,
   "id": "140b4e7c-04b7-43a6-9223-4a509ccebd27",
   "metadata": {},
   "outputs": [],
   "source": [
    "coeffs_5a = [1/12,0,0,0,0,0,1/12,0,0,0,0,0,0,1/12,0,0,0,1/12,0,0,1/12,0,0,0,0,0,1/12,0,0,0,\n",
    "             0,0,0,1/12,0,0,0,1/12,0,0,1/12,0,0,0,0,0,1/12,0,0,0,0,0,0,1/12,0,0,0,1/12,0,0]\n",
    "assert len(coeffs_5a) == 60\n",
    "grp_alg_element_5a = sum(coeff*QA(ele) for (coeff,ele) in zip(coeffs_5a,A5))\n",
    "assert grp_alg_element_5a**2 == grp_alg_element_5a\n",
    "assert dimQA5e(grp_alg_element_5a) == 5"
   ]
  },
  {
   "cell_type": "code",
   "execution_count": 72,
   "id": "412c81fe-40d6-471d-9bf6-35bbb189b858",
   "metadata": {},
   "outputs": [],
   "source": [
    "coeffs_5b = [1/6,0,0,0,0,0,0,0,0,0,0,0,0,0,-1/6,0,0,0,0,0,1/6,0,0,0,0,0,0,0,0,0,\n",
    "            0,0,0,0,-1/6,0,0,0,0,0,1/6,0,0,0,0,0,0,0,0,0,0,0,0,0,-1/6,0,0,0,0,0]\n",
    "assert len(coeffs_5b) == 60\n",
    "grp_alg_element_5b = sum(coeff*QA(ele) for (coeff,ele) in zip(coeffs_5b,A5))\n",
    "assert grp_alg_element_5b**2 == grp_alg_element_5b\n",
    "assert dimQA5e(grp_alg_element_5b) == 10"
   ]
  },
  {
   "cell_type": "code",
   "execution_count": 73,
   "id": "97d6cc03-cb96-4ff4-b29c-c6084759ef18",
   "metadata": {},
   "outputs": [],
   "source": [
    "coeffs_5c = [1/12,0,-1/12,0,1/12,0,0,1/12,0,0,0,-1/12,0,1/12,1/12,-1/12,0,0,0,-1/12,0,0,0,-1/12,-1/12,0,-1/12,-1/12,0,0,\n",
    "             0,1/12,1/12,0,-1/12,1/12,0,0,0,0,-1/12,0,1/12,1/12,0,0,1/12,0,0,0,0,0,-1/12,-1/12,0,0,0,0,0,1/12]\n",
    "assert len(coeffs_5c) == 60\n",
    "grp_alg_element_5c = sum(coeff*QA(ele) for (coeff,ele) in zip(coeffs_5c,A5))\n",
    "assert grp_alg_element_5c**2 == grp_alg_element_5c\n",
    "assert dimQA5e(grp_alg_element_5c) == 5"
   ]
  }
 ],
 "metadata": {
  "kernelspec": {
   "display_name": "SageMath 10.6",
   "language": "sage",
   "name": "sagemath"
  },
  "language_info": {
   "codemirror_mode": {
    "name": "ipython",
    "version": 3
   },
   "file_extension": ".py",
   "mimetype": "text/x-python",
   "name": "python",
   "nbconvert_exporter": "python",
   "pygments_lexer": "ipython3",
   "version": "3.12.11"
  }
 },
 "nbformat": 4,
 "nbformat_minor": 5
}
