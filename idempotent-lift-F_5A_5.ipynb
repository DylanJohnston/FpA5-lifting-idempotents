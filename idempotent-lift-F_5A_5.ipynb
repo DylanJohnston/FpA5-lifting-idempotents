{
 "cells": [
  {
   "cell_type": "markdown",
   "id": "23d4e6e0-4275-499e-ab4f-dee009156212",
   "metadata": {},
   "source": [
    "# Aim "
   ]
  },
  {
   "attachments": {},
   "cell_type": "markdown",
   "id": "f5b1c4ba-4fe3-4f80-a7d9-f4004ac8009e",
   "metadata": {
    "jp-MarkdownHeadingCollapsed": true
   },
   "source": [
    "Lift projective indecomposables (equiv., primitive idempotents) from $\\mathbb{F}_5A_5$ to $\\mathbb{Z}_{(5)}A_5 \\subset \\mathbb{Q}A_5$. \n",
    "\n",
    "Some character-related details are summarised below.\n",
    "\n",
    "![details of A_5 repns over various fields](-)"
   ]
  },
  {
   "cell_type": "markdown",
   "id": "99d375f0-be2b-4e0a-852c-92e2a7633a07",
   "metadata": {},
   "source": [
    "$\\mathbb{F}_3A_5$ has block structure $B_0 \\oplus B_1$, where $B_0$ is the principal block (containing $\\chi_1$, $\\chi_3$,...), and where $B_1$ is semisimple. \n",
    "\n",
    "- $B_0 \\cong P(\\chi_1) \\oplus P(\\chi_3)^{\\oplus 3}$, where $P(-)$ denotes projective cover.\n",
    "- $[P(\\chi_1)] = 2[\\chi_1] + [\\chi_3] = [\\rho_1] + [\\rho_4]$ (projective indecomposable of dimension 5)\n",
    "- $[P(\\chi_3)] = [\\chi_1] + 3[\\chi_3] = [\\rho_4] + [\\rho_6]$  (projective indecomposable of dimension 10)\n",
    "- $\\dim(B_0) = 1 \\times 5 + 3 \\times 10 = 35$\n",
    "\n",
    "- $B_1$ is semisimple. Indeed, $B_1 \\cong P(\\chi_5)^{\\oplus 5} = (\\chi_5)^{\\oplus 5} \\cong M_{5 \\times 5}(\\mathbb{F}_5)$.\n",
    "- $\\dim(B_1) = 5 \\times 5 = 25$"
   ]
  },
  {
   "cell_type": "markdown",
   "id": "c51d0bec-322d-4d56-a193-d36fc8e0393e",
   "metadata": {},
   "source": [
    "# Quickly addressing the semisimple block, $B_1$."
   ]
  },
  {
   "cell_type": "markdown",
   "id": "57fec67d-39cc-4e32-9d14-339e57bc9ea4",
   "metadata": {},
   "source": [
    "Lifting $P(\\chi_5)$ is straightforward, as the block is semisimple. \n",
    "\n",
    "Using a bar, $\\overline{\\hspace{1ex}}$, to denote \"reduction modulo 5\". We have $\\overline{\\rho_5} = \\chi_5$. \n",
    "\n",
    "The construction of an idempotent in $\\mathbb{Q}A_5$ corresponding to $\\rho_5$ can be achieved using Young symmetrisers (in $S_5$). We find the Young symmetriser of one of the $5$-diml irreducible representation of $S_5$, $V$ (due to the fact that $\\text{Res}_{A_5}^{S_5}(V) \\cong \\rho_5$). \n",
    "\n",
    "A straightforward modification of the symmetriser associated to $V$ produces the required idempotent in $A_5$. \n",
    "\n",
    "The details are below."
   ]
  },
  {
   "cell_type": "code",
   "execution_count": 83,
   "id": "5f0d36c9-012f-4cfa-8b03-493fd6544dc1",
   "metadata": {},
   "outputs": [
    {
     "name": "stdout",
     "output_type": "stream",
     "text": [
      "e5 = f5 + f5* (idempotent in A_5) is:\n",
      "\n",
      "1/12*() - 1/12*(3,4,5) - 1/12*(2,4,3) + 1/12*(2,4)(3,5) + 1/12*(1,2)(3,4) - 1/12*(1,2)(3,5) - 1/12*(1,2,3) + 1/12*(1,2,3,4,5) - 1/12*(1,2,5) + 1/12*(1,2,5,3,4) - 1/12*(1,3,4) + 1/12*(1,3,5) + 1/12*(1,3)(2,4) - 1/12*(1,3,2,4,5) + 1/12*(1,4,5,3,2) - 1/12*(1,4,2) + 1/12*(1,4)(2,3) - 1/12*(1,4,2,3,5) - 1/12*(1,4,2,5,3) + 1/12*(1,4,3,2,5) + 1/12*(1,5,3) - 1/12*(1,5)(3,4) - 1/12*(1,5,3,2,4) + 1/12*(1,5)(2,4)\n",
      "\n",
      "Its values on irreducible characters of A_5 are:\n",
      "\n",
      "[('ρ1', 0), ('ρ2', 0), ('ρ3', 0), ('ρ4', 0), ('ρ5', 1)]\n"
     ]
    }
   ],
   "source": [
    "S5 = groups.permutation.Symmetric(5)\n",
    "QS = GroupAlgebra(S5, QQ)\n",
    "sgn_rep = SymmetricGroupRepresentation([1]*5)\n",
    "sgn = sgn_rep.to_character()\n",
    "A5 = AlternatingGroup(5)\n",
    "irrA5 = A5.irreducible_characters()\n",
    "\n",
    "'''one of the 5d reps of S_5 corresponds to tableau\n",
    "[1][2]\n",
    "[3][4]\n",
    "[5]\n",
    "'''\n",
    "\n",
    "#Young symmetriser is y=ab, where a and b are row and column (anti) symmetrisers\n",
    "a5 = sum(QS(g) for g in S5.stabilizer([1,2],\"OnSets\").stabilizer([3,4],\"OnSets\"))\n",
    "b5 = sum(int(sgn(g))*QS(g) for g in S5.stabilizer([1,3,5],\"OnSets\"))\n",
    "y5 = a5*b5\n",
    "f5 = 1/24*y5\n",
    "assert f5**2 == f5\n",
    "\n",
    "#To obtain idempotent of A5, we twist f5 by sign, say f5_twisted, and compute f5 + f5_twisted\n",
    "f5_twisted = sum(coeff*int(sgn(S5(element)))*QS(element) for (element, coeff) in f5)\n",
    "e5 = f5 +f5_twisted\n",
    "assert e5**2 == e5\n",
    "\n",
    "print(f\"e5 = f5 + f5* (idempotent in A_5) is:\\n\\n{e5}\\n\")\n",
    "print(f\"Its values on irreducible characters of A_5 are:\\n\\n{[(f\"ρ{indx}\", sum(coeff*char(A5(grp_ele)) for (grp_ele,coeff) in e5)) for (indx,char) in enumerate(irrA5,1)]}\")"
   ]
  },
  {
   "cell_type": "markdown",
   "id": "987bcb47-94ca-4e3e-af1e-f2dc01e4d74c",
   "metadata": {},
   "source": [
    "# Finding primitive idempotents in the principal block, $B_0$."
   ]
  },
  {
   "cell_type": "markdown",
   "id": "fac0d848-8abe-41c7-a154-d93246633973",
   "metadata": {},
   "source": [
    "Our stratgey will be to find primitive idempotents $\\overline{e} \\in \\mathbb{F}_5A_5$. Lift them to the group ring over the $5$-adic numbers $\\hat{\\mathbb{Z}_5}A_5$ (which is always possible since $\\hat{\\mathbb{Z}_5}$ is complete), and then check that, in fact, the $5$-adic coefficients are rational numbers."
   ]
  },
  {
   "cell_type": "markdown",
   "id": "c0e25f40-41f4-40e7-a4e4-80678d5d43a8",
   "metadata": {},
   "source": [
    "To do this, we need to find primitive idempotents. This is achieved as follows:\n",
    "\n",
    "- Find $CI_1$ and $CI_0$ -- the central idempotents corresponding to the blocks $B_0$ and $B_1$, respectively. For $B_1$, this is just $CI_1 = \\frac{\\rho_{5}(1)}{|G|}\\displaystyle \\sum_{g \\in G} \\overline{\\rho_{5}(g)}g$. For $B_0$, define $CI_0 = 1 - CI_1$.   \n",
    "- Take subgroup $H \\cong C_3 \\subset A_5$, and take the idempotent in $\\mathbb{Q}H \\subset \\mathbb{Q}A_5$ associated to trivial representation (of $H$). (The denominator will be $|C_3| = 3$, importantly, it doesn't contain any $5$s)\n",
    "- Reduce modulo $5$ to obtain element of $\\mathbb{F}_5H \\subset \\mathbb{F}_5A_5$. \n",
    "- Multiply by $CI_0$ to project to principal block. Call the resulting idempotent $\\overline{x}$.\n",
    "- See what we get, and go from there...\n",
    "\n",
    "These first four steps are carried out below."
   ]
  },
  {
   "cell_type": "code",
   "execution_count": 95,
   "id": "2d0e87d8-1dd2-487b-ab59-e656cee96e13",
   "metadata": {},
   "outputs": [],
   "source": [
    "FA = GroupAlgebra(A5, GF(5))\n",
    "\n",
    "#Central idempotent for block B1 is given by conjugacy class sums on character values of \\rho_5 = (5,1,-1,0,0) for classes 1,2,3,5A,5B respectively\n",
    "CI_1_char_values = [5,1,-1,0,0]\n",
    "conj_classes_A5 = A5.conjugacy_classes() # these classes are in the order 1,2,3,5,5, so order is compatible with above\n",
    "\n",
    "CI_1 = GF(5)(5/60)*sum(val * FA(ele) for (val, ccl) in zip(CI_1_char_values,conj_classes_A5) for ele in ccl)\n",
    "CI_0 = 1 - CI_1\n",
    "\n",
    "assert CI_1**2 == CI_1\n",
    "assert CI_0**2 == CI_0\n",
    "\n",
    "A5_subgroup_C3 = [H for H in A5.subgroups() if H.order() == 3]\n",
    "H = A5_subgroup_C3[0]\n",
    "H_triv_idempotent = GF(5)(1/H.order())*sum(FA(ele) for ele in H)\n",
    "\n",
    "assert H_triv_idempotent**2 == H_triv_idempotent\n",
    "xbar = H_triv_idempotent * CI_0"
   ]
  },
  {
   "cell_type": "markdown",
   "id": "1cef44cf-6394-4d65-83f6-f3f3f3d44465",
   "metadata": {},
   "source": [
    "We have a block decomposition of $B_0$ given by the idempotent $\\overline{x}$:\n",
    "\n",
    "$$B_0 = B_0\\overline{x} \\oplus B_0(CI_0 - \\overline{x}) = \\mathbb{F}_5A_5\\overline{x} \\oplus \\mathbb{F}_5A_5(CI_0-\\overline{x})$$\n",
    "\n",
    "We now find dimensions of these summands. \n",
    "\n",
    "For a given idempotent $e$, we find the dimension of $\\mathbb{F}_5A_5e$ by finding the rank of the $60 \\times 60$ matrix associated to the linear transformation $L(x) = xe$, $x \\in \\mathbb{F}_5A_5$ with the obvious basis of $\\mathbb{F}_5A_5$."
   ]
  },
  {
   "cell_type": "code",
   "execution_count": 85,
   "id": "445b892e-07e7-4840-b672-ec920f7e87d7",
   "metadata": {},
   "outputs": [
    {
     "name": "stdout",
     "output_type": "stream",
     "text": [
      "dimension of A(xbar) is 15\n",
      "dimension of A(CI_0-xbar) is 20\n"
     ]
    }
   ],
   "source": [
    "def Ae_matrix_rank(e, two_sided = False,return_matrix = False):\n",
    "    \"\"\"\n",
    "    Given idempotent e, find the dimension of F_5A_5e if two_sided = False, and eF_5A_5e if two_sided = True.\n",
    "    If return_matrix = True, the matrix is returned, rather than its rank.\n",
    "    \"\"\"\n",
    "    if two_sided:\n",
    "        spanning_set = [e * g * e for g in A5]\n",
    "    else:\n",
    "        spanning_set = [g * e for g in A5]\n",
    "\n",
    "    L_2d_array = []\n",
    "    for ele in spanning_set:\n",
    "        element_of_spanning_set_dict = ele.monomial_coefficients() #dict of form {'<grp_element>': <coeff>}\n",
    "        coeffs_of_element_in_spanning_set = []\n",
    "        for g in A5:\n",
    "            try:\n",
    "                coeffs_of_element_in_spanning_set.append(element_of_spanning_set_dict[g])\n",
    "            except:\n",
    "                coeffs_of_element_in_spanning_set.append(0)\n",
    "        L_2d_array.append(coeffs_of_element_in_spanning_set)\n",
    "        \n",
    "    L_matrix = Matrix(GF(5), L_2d_array)\n",
    "    rank_of_L_matrix = L_matrix.rank()\n",
    "    if return_matrix:\n",
    "        return L_matrix\n",
    "    return rank_of_L_matrix\n",
    "\n",
    "print(f\"dimension of A(xbar) is {Ae_matrix_rank(xbar)}\")\n",
    "print(f\"dimension of A(CI_0-xbar) is {Ae_matrix_rank(CI_0-xbar)}\")"
   ]
  },
  {
   "cell_type": "markdown",
   "id": "8d7a2c71-cb5c-482b-82cb-46d69a2dc226",
   "metadata": {},
   "source": [
    "- $B_0\\overline{x} = \\mathbb{F}_5A_5\\overline{x}$ has dimension $15$, and therefore $B_0\\overline{x} \\cong P(\\chi_1) \\oplus P(\\chi_3)$.\n",
    "\n",
    "- $B_0(CI_0 - \\overline{x}) = \\mathbb{F}_5A_5(CI_0 - \\overline{x})$ has dimension $20$, and therefore $B_0(CI_0 - \\overline{x}) \\cong P(\\chi_3)^{\\oplus 2}$. \n",
    "\n",
    "Moreover...\n",
    "\n",
    "In fact, (primitive) idempotents corresponding to $P(\\chi_1)$ and $P(\\chi_3)$ must lie in the **two sided ideal** $\\overline{x}(B_0)\\overline{x} = \\overline{x}(\\mathbb{F}_5A_5)\\overline{x}$.\n",
    "\n",
    "Indeed, a (primitive) idempotent $e$ yields a (indecomposable) module $Ae$, and $\\text{End}_A(Ae) = eAe$, so $e \\in \\text{End}_A(Ae)$. Moreover, $\\text{End}(P) \\subset \\text{End}(P \\oplus Q)$.\n",
    "\n",
    "Next up...\n",
    "\n",
    "We construct a basis of $\\overline{x}(\\mathbb{F}_5A_5)\\overline{x}$ (it turns out that the dimension is 7, see below)."
   ]
  },
  {
   "cell_type": "code",
   "execution_count": 86,
   "id": "9a194f43-b11f-42d9-904f-7cf1815e58af",
   "metadata": {},
   "outputs": [
    {
     "name": "stdout",
     "output_type": "stream",
     "text": [
      "dimension of xbar(F_5A_5)xbar is 7\n",
      "\n"
     ]
    }
   ],
   "source": [
    "print(f\"dimension of xbar(F_5A_5)xbar is {Ae_matrix_rank(xbar, two_sided = True)}\\n\") #dimension is 7\n",
    "\n",
    "def coeffs_of_basis_two_sided(e):\n",
    "    \"\"\"\n",
    "    Given idempotent e, finds the coefficients of the basis of eAe, where A = F_5A_5\n",
    "    (ordering of coeffs follows order of [g for g in AlternatingGroup(5)])\n",
    "    \"\"\"\n",
    "    coeff_matrix = Ae_matrix_rank(e, two_sided = True, return_matrix = True)\n",
    "    \n",
    "    return [row for row in coeff_matrix.rref().rows() if row.is_zero() == False]\n",
    "\n",
    "xAx_basis_coeffs = coeffs_of_basis_two_sided(xbar)\n",
    "xAx_basis = [sum(coeff * FA(g) for (coeff,g) in zip(coeffs,A5)) for coeffs in xAx_basis_coeffs]"
   ]
  },
  {
   "cell_type": "markdown",
   "id": "14260a4a-479c-4a90-8232-c4242b25def7",
   "metadata": {},
   "source": [
    "We have a basis of $\\overline{x}(\\mathbb{F}_5A_5)\\overline{x}$ (of dimension $7$). There are $|\\{0,1,2,3,4\\}|^7 = 5^{7} = 78125$ elements. We brute force them to find idempotents, $e$, stopping once we find one such that $\\dim(\\mathbb{F}_5A_5e) = 5$ and $\\dim(\\mathbb{F}_5A_5e) = 10$"
   ]
  },
  {
   "cell_type": "code",
   "execution_count": 87,
   "id": "10e0b714-9462-4091-8d19-62c1f3af395a",
   "metadata": {},
   "outputs": [
    {
     "name": "stdout",
     "output_type": "stream",
     "text": [
      "A primitive idempotent of F5A5 yielding the indecomposable projective P(chi_1) of dimension 5 is:\n",
      "\n",
      "3*() + 3*(3,4,5) + 3*(3,5,4) + 3*(1,3)(4,5) + 3*(1,3,4) + 3*(1,3,5) + 3*(1,4,3) + 3*(1,4,5) + 3*(1,4)(3,5) + 3*(1,5,3) + 3*(1,5,4) + 3*(1,5)(3,4)\n",
      "\n",
      "\n",
      "A primitive idempotent of F5A5 yielding the indecomposable projective P(chi_3) of dimension 10 is:\n",
      "\n",
      "() + (3,4,5) + (3,5,4) + 4*(1,2)(4,5) + 4*(1,2)(3,4) + 4*(1,2)(3,5)\n"
     ]
    }
   ],
   "source": [
    "possible_coeffs = cartesian_product([[0,1,2,3,4]] * 7)\n",
    "\n",
    "idem_P1 = None\n",
    "idem_P3 = None\n",
    "\n",
    "for coeffs in possible_coeffs:\n",
    "    test_element = sum(coeff * ele for (coeff,ele) in zip(coeffs, xAx_basis))\n",
    "    if test_element**2 == test_element:\n",
    "        if (not idem_P1) and Ae_matrix_rank(test_element) == 5:\n",
    "           idem_P1 = test_element\n",
    "        if (not idem_P3) and Ae_matrix_rank(test_element) == 10:\n",
    "           idem_P3 = test_element\n",
    "        if idem_P1 and idem_P3:\n",
    "            break\n",
    "\n",
    "assert idem_P1**2 == idem_P1\n",
    "assert Ae_matrix_rank(idem_P1) == 5\n",
    "\n",
    "assert idem_P3**2 == idem_P3\n",
    "assert Ae_matrix_rank(idem_P3) == 10\n",
    "\n",
    "print(f\"A primitive idempotent of F5A5 yielding the indecomposable projective P(chi_1) of dimension 5 is:\\n\\n{idem_P1}\\n\\n\")\n",
    "print(f\"A primitive idempotent of F5A5 yielding the indecomposable projective P(chi_3) of dimension 10 is:\\n\\n{idem_P3}\")"
   ]
  },
  {
   "cell_type": "markdown",
   "id": "c15f20e6-930a-4394-bd6e-edd4f36ca818",
   "metadata": {},
   "source": [
    "# Lifting primitive idempotents from $\\mathbb{F}_5A_5$ to $\\mathbb{Z}_{(5)}A_5$"
   ]
  },
  {
   "cell_type": "markdown",
   "id": "fe43196c-3938-43f1-8eb2-848cea240628",
   "metadata": {},
   "source": [
    "To lift, we lift to the group algebra over the $5$-adic integers, $\\hat{\\mathbb{Z}_5}A_5$, and then check if, in fact, our coefficients are rational. A $5$-adic integer with repeating digits is rational.\n",
    "\n",
    "### Lifting from $\\mathbb{F}_5A_5$ to $\\hat{\\mathbb{Z}_5}A_5$\n",
    "\n",
    "As $\\hat{\\mathbb{Q}_5}$ (the $5$-adic numbers) are complete, it is always possible to perform such a lift. \n",
    "\n",
    "In practice, we lift to $\\mathbb{Z}/5^c\\mathbb{Z}$, which will give us the first $c$ coefficients of the lift.\n",
    "\n",
    "As we are hoping for the coefficients to repeat  (since we work under the assumption that our $5$-adic coefficients are in fact rational), we hope to spot a repeating pattern in the first $c$ coefficients, for some reasonably small $c$.\n",
    "\n",
    "Then, assuming repeating patterns exist (spoiler: they do). We calculate the rational coefficients and check idempotency. \n",
    "\n",
    "### The iterative process (how to actually lift).\n",
    "\n",
    "- We start with any lift from $\\mathbb{F}_5A_5$ to $\\mathbb{Z}_{(5)}A_5 \\subset \\mathbb{Q}A_5$. The naive lift induced from set map $\\mathbb{F}_5 \\rightarrow \\mathbb{Z}; \\{\\overline{0},\\overline{1},\\overline{2},\\overline{3},\\overline{4}\\} \\mapsto \\{0,1,2,3,4\\}$ will do. \n",
    "- Denote this initial lift by $e_0$. Then $e_0 = \\bar{e}\\, (\\text{mod } 5)$, but $e_0$ is (almost certainly) not an idempotent.\n",
    "- Iteratively define $e_{k+1} = 3e_k^2 - 2e_k^3$. \n",
    "- If $e_k \\equiv \\bar{e} \\, (\\text{mod } 5)$, then $e_{k+1}\\equiv 3e_k^2 - 2e_k^3 \\equiv 3\\overline{e}^2 - 2\\overline{e}^3 \\equiv \\overline{e} \\, (\\text{mod } 5) $. So, by induction, all the $e_i$ are lifts of $\\bar{e}$.\n",
    "- Define $\\delta_k = e_k^2 - e_k$. This is the error/defect term (a measure of how far $e_k$ is for being idempotent).\n",
    "- Claim: If $\\delta_k \\equiv 0\\, (\\text{mod } 5^n)$ then $\\delta_{k+1} \\equiv 0\\, (\\text{mod } 5^{2n})$. The proof is to show that $\\delta_{k+1} = \\delta_k^2(\\text{stuff})$.\n",
    "- Thus, $\\delta_0 \\equiv 0\\, (\\text{mod } 5^1)$, $\\delta_1 \\equiv 0\\, (\\text{mod } 5^2)$, $\\delta_2 \\equiv 0\\, (\\text{mod } 5^{2^2} = 5^4)$, $\\delta_3 \\equiv 0\\, (\\text{mod } 5^{2^3} = 5^8)$, etc\n",
    "- If we work in the ring $\\mathbb{Z}/5^c\\mathbb{Z}$, then this iterative process stabilises whenever $K$ is such that $2^K > c$.\n",
    "\n",
    "\n",
    "- This process will find the first $c$ $5$-adic coefficients of each element $g \\in A_5$ of the lift.\n",
    "\n",
    "\n"
   ]
  },
  {
   "cell_type": "code",
   "execution_count": 96,
   "id": "127963b2-4d50-4bd5-afd9-8477c8131b0c",
   "metadata": {},
   "outputs": [],
   "source": [
    "def refine_lift(initial_lift, num_coeffs):\n",
    "    c = num_coeffs\n",
    "    N = 5**c\n",
    "    RA = GroupAlgebra(A5,IntegerModRing(N))\n",
    "    old_lift = None\n",
    "    current_lift = sum(int(coeff)*RA(ele) for (ele,coeff) in initial_lift.monomial_coefficients().items())\n",
    "    while current_lift != old_lift:\n",
    "        old_lift = current_lift\n",
    "        current_lift = 3*current_lift**2 - 2*current_lift**3\n",
    "    return current_lift\n",
    "\n",
    "def int_coeffs_to_5adic(ele_coeff_dict, num_coeffs):\n",
    "    \"\"\"\n",
    "    Takes a dictionary with entries <str>:<int> and computes the first `num_coeffs` terms of 5-adic expansion of <int> (this is just base 5 number)\n",
    "    \"\"\"\n",
    "    def int_to_base5(n):\n",
    "        n %= 5**num_coeffs #our values will only be accurate to `num_coeffs` 5-adic places, so anything beyond 5^num_coeffs is nonsense\n",
    "        expansion = ''\n",
    "        for i in range(num_coeffs):\n",
    "            expansion = str(n%5)+expansion\n",
    "            n = n // 5\n",
    "        return '...'+expansion\n",
    "    expansion_dict = dict()\n",
    "    for key,val in ele_coeff_dict.items():\n",
    "        expansion_dict[key] = int_to_base5(int(val))\n",
    "    return expansion_dict\n",
    "\n",
    "def rational_from_repeating_5_adic(expansion:str):\n",
    "    \"\"\"\n",
    "    Takes a 5-adic expansion (passed as a string) of the form (ab)c and returns the fraction it represents.\n",
    "    x = (ab)abc\n",
    "    25x = (ab)c00(everything shifts 2 places to the left, since 25=5^2)\n",
    "    => 24x = 25c-(25a+5b+c)\n",
    "    => x = 1/24 * (25c-(25a+5b+c))\n",
    "    \"\"\"\n",
    "    a,b,c = map(int,expansion[-3:])\n",
    "    numerator = 25*c - (25*a+5*b+c)\n",
    "    return numerator/Integer(24)"
   ]
  },
  {
   "cell_type": "markdown",
   "id": "073268d8-8940-4ab2-aa96-979b61c4032a",
   "metadata": {},
   "source": [
    "## Lifting the idempotent in $\\mathbb{F}_5A_5$ associated to $P(\\chi_1)$ (of dimension 5)."
   ]
  },
  {
   "cell_type": "code",
   "execution_count": 89,
   "id": "fcf6b3c8-26b3-4ec6-96d1-d8ff3482cf43",
   "metadata": {},
   "outputs": [
    {
     "name": "stdout",
     "output_type": "stream",
     "text": [
      "Rational idempotent associated to rational lift of P(chi_1) (of dimension 5) is\n",
      "\n",
      "1/12*() + 1/12*(3,4,5) + 1/12*(3,5,4) + 1/12*(1,3)(4,5) + 1/12*(1,3,4) + 1/12*(1,3,5) + 1/12*(1,4,3) + 1/12*(1,4,5) + 1/12*(1,4)(3,5) + 1/12*(1,5,3) + 1/12*(1,5,4) + 1/12*(1,5)(3,4)\n",
      "\n",
      "\n",
      "A dataframe displaying 5-adic coefficients, as well as rational coefficients for each term in the rational lift:\n",
      "\n",
      "                                    5-adic coefficients rational_coefficients\n",
      "A5 element                                                                   \n",
      "(1,4,5)     ...4242424242424242424242424242424242424243                  1/12\n",
      "(3,5,4)     ...4242424242424242424242424242424242424243                  1/12\n",
      "(1,3,5)     ...4242424242424242424242424242424242424243                  1/12\n",
      "(3,4,5)     ...4242424242424242424242424242424242424243                  1/12\n",
      "(1,4,3)     ...4242424242424242424242424242424242424243                  1/12\n",
      "()          ...4242424242424242424242424242424242424243                  1/12\n",
      "(1,3)(4,5)  ...4242424242424242424242424242424242424243                  1/12\n",
      "(1,5)(3,4)  ...4242424242424242424242424242424242424243                  1/12\n",
      "(1,5,3)     ...4242424242424242424242424242424242424243                  1/12\n",
      "(1,5,4)     ...4242424242424242424242424242424242424243                  1/12\n",
      "(1,4)(3,5)  ...4242424242424242424242424242424242424243                  1/12\n",
      "(1,3,4)     ...4242424242424242424242424242424242424243                  1/12\n",
      "\n"
     ]
    }
   ],
   "source": [
    "###############\n",
    "# For idem_P1 #\n",
    "###############\n",
    "\n",
    "import pandas as pd\n",
    "\n",
    "\n",
    "QA = GroupAlgebra(A5,QQ)\n",
    "num_coeffs_of_accuracy_in_lift_refinement = 40\n",
    "\n",
    "#obtain initial lift, refine it, then write coefficients 3-adically.\n",
    "initial_lift_of_idem_P1 = sum(int(coeff)*QA(g) for (g,coeff) in idem_P1.monomial_coefficients().items())\n",
    "refined_lift_of_idem_P1 = refine_lift(initial_lift_of_idem_P1, num_coeffs_of_accuracy_in_lift_refinement)\n",
    "refined_lift_of_idem_P1_5_adic_coefficients = int_coeffs_to_5adic(refined_lift_of_idem_P1.monomial_coefficients(), num_coeffs_of_accuracy_in_lift_refinement)\n",
    "\n",
    "idem_P1_lift_df = pd.DataFrame.from_dict(refined_lift_of_idem_P1_5_adic_coefficients, orient='index',columns=['5-adic coefficients'])\n",
    "idem_P1_lift_df['rational_coefficients'] = idem_P1_lift_df['5-adic coefficients'].apply(rational_from_repeating_5_adic)\n",
    "idem_P1_lift_df.index.name = \"A5 element\"\n",
    "\n",
    "rational_lift_P1 = (idem_P1_lift_df.index.to_series().apply(lambda x: QA(x)) * idem_P1_lift_df['rational_coefficients']).sum()\n",
    "\n",
    "#Idempotent?\n",
    "assert rational_lift_P1**2 == rational_lift_P1\n",
    "#Does our rational lift reduce modulo 5 to idem_P1?\n",
    "assert sum(GF(5)(coeff)*FA(ele) for (ele,coeff) in rational_lift_P1.monomial_coefficients().items()) == idem_P1\n",
    "\n",
    "print(f\"Rational idempotent associated to rational lift of P(chi_1) (of dimension 5) is\\n\\n{rational_lift_P1}\\n\\n\")\n",
    "print(f\"A dataframe displaying 5-adic coefficients, as well as rational coefficients for each term in the rational lift:\\n\\n{idem_P1_lift_df}\\n\")"
   ]
  },
  {
   "cell_type": "markdown",
   "id": "519042ef-92ab-4841-9e85-e411088fd70e",
   "metadata": {},
   "source": [
    "## Lifting the idempotent in $\\mathbb{F}_5A_5$ associated to $P(\\chi_3)$ (of dimension 10)."
   ]
  },
  {
   "cell_type": "code",
   "execution_count": 91,
   "id": "48e25fc9-df79-4eeb-a148-afbc77b51b33",
   "metadata": {},
   "outputs": [
    {
     "name": "stdout",
     "output_type": "stream",
     "text": [
      "Rational idempotent associated to rational lift of P(chi_3) (of dimension 10) is\n",
      "\n",
      "1/6*() + 1/6*(3,4,5) + 1/6*(3,5,4) - 1/6*(1,2)(4,5) - 1/6*(1,2)(3,4) - 1/6*(1,2)(3,5)\n",
      "\n",
      "\n",
      "A dataframe displaying 5-adic coefficients, as well as rational coefficients for each term in the rational lift:\n",
      "\n",
      "                                    5-adic coefficients rational_coefficients\n",
      "A5 element                                                                   \n",
      "()          ...4040404040404040404040404040404040404041                   1/6\n",
      "(1,2)(3,4)  ...0404040404040404040404040404040404040404                  -1/6\n",
      "(3,5,4)     ...4040404040404040404040404040404040404041                   1/6\n",
      "(1,2)(3,5)  ...0404040404040404040404040404040404040404                  -1/6\n",
      "(3,4,5)     ...4040404040404040404040404040404040404041                   1/6\n",
      "(1,2)(4,5)  ...0404040404040404040404040404040404040404                  -1/6\n",
      "\n"
     ]
    }
   ],
   "source": [
    "###############\n",
    "# For idem_P3 #\n",
    "###############\n",
    "\n",
    "#obtain initial lift, refine it, then write coefficients 3-adically.\n",
    "initial_lift_of_idem_P3 = sum(int(coeff)*QA(g) for (g,coeff) in idem_P3.monomial_coefficients().items())\n",
    "refined_lift_of_idem_P3 = refine_lift(initial_lift_of_idem_P3, num_coeffs_of_accuracy_in_lift_refinement)\n",
    "refined_lift_of_idem_P3_5_adic_coefficients = int_coeffs_to_5adic(refined_lift_of_idem_P3.monomial_coefficients(), num_coeffs_of_accuracy_in_lift_refinement)\n",
    "\n",
    "idem_P3_lift_df = pd.DataFrame.from_dict(refined_lift_of_idem_P3_5_adic_coefficients, orient='index',columns=['5-adic coefficients'])\n",
    "idem_P3_lift_df['rational_coefficients'] = idem_P3_lift_df['5-adic coefficients'].apply(rational_from_repeating_5_adic)\n",
    "idem_P3_lift_df.index.name = \"A5 element\"\n",
    "\n",
    "rational_lift_P3 = (idem_P3_lift_df.index.to_series().apply(lambda x: QA(x)) * idem_P3_lift_df['rational_coefficients']).sum()\n",
    "\n",
    "#Idempotent?\n",
    "assert rational_lift_P3**2 == rational_lift_P3\n",
    "#Does our rational lift reduce modulo 5 to idem_P3?\n",
    "assert sum(GF(5)(coeff)*FA(ele) for (ele,coeff) in rational_lift_P3.monomial_coefficients().items()) == idem_P3\n",
    "\n",
    "print(f\"Rational idempotent associated to rational lift of P(chi_3) (of dimension 10) is\\n\\n{rational_lift_P3}\\n\\n\")\n",
    "print(f\"A dataframe displaying 5-adic coefficients, as well as rational coefficients for each term in the rational lift:\\n\\n{idem_P3_lift_df}\\n\")"
   ]
  },
  {
   "cell_type": "markdown",
   "id": "2d38a42d-68f2-4ee8-800b-f1c68806bbc9",
   "metadata": {},
   "source": [
    "## Checking dimensions (A sanity check)."
   ]
  },
  {
   "cell_type": "code",
   "execution_count": 92,
   "id": "ae7a709f-9dd1-40e2-b006-e8043a53c21e",
   "metadata": {},
   "outputs": [
    {
     "name": "stdout",
     "output_type": "stream",
     "text": [
      "The dimension of QA_5*(rational_lift_P1) as a Q-vector space is 5\n",
      "\n",
      "The dimension of QA_5*(rational_lift_P4) as a Q-vector space is 10\n"
     ]
    }
   ],
   "source": [
    "\"\"\"\n",
    "We have seen this function before, namely `Ae_matrix_rank` (but here the matrix is over QQ, rather than F_3).\n",
    "Rather than create a distraction by adding another argument in the prior version of the function, we just redefine it... \n",
    "\"\"\"\n",
    "def dimQA5e(e):\n",
    "    \"\"\"\n",
    "    Given idempotent e, find the dimension of QA_5e\n",
    "    \"\"\"\n",
    "    spanning_set = [g * e for g in A5]\n",
    "    L_2d_array = []\n",
    "    for ele in spanning_set:\n",
    "        element_of_spanning_set_dict = ele.monomial_coefficients() #dict of form {'<grp_element>': <coeff>}\n",
    "        coeffs_of_element_in_spanning_set = []\n",
    "        for g in A5:\n",
    "            try:\n",
    "                coeffs_of_element_in_spanning_set.append(element_of_spanning_set_dict[g])\n",
    "            except:\n",
    "                coeffs_of_element_in_spanning_set.append(0)\n",
    "        L_2d_array.append(coeffs_of_element_in_spanning_set)        \n",
    "    L_matrix = Matrix(QQ, L_2d_array)\n",
    "    rank_of_L_matrix = L_matrix.rank()\n",
    "    return rank_of_L_matrix\n",
    "\n",
    "print(f\"The dimension of QA_5*(rational_lift_P1) as a Q-vector space is {dimQA5e(rational_lift_P1)}\\n\")\n",
    "print(f\"The dimension of QA_5*(rational_lift_P4) as a Q-vector space is {dimQA5e(rational_lift_P3)}\")"
   ]
  }
 ],
 "metadata": {
  "kernelspec": {
   "display_name": "SageMath 10.6",
   "language": "sage",
   "name": "sagemath"
  },
  "language_info": {
   "codemirror_mode": {
    "name": "ipython",
    "version": 3
   },
   "file_extension": ".py",
   "mimetype": "text/x-python",
   "name": "python",
   "nbconvert_exporter": "python",
   "pygments_lexer": "ipython3",
   "version": "3.12.11"
  }
 },
 "nbformat": 4,
 "nbformat_minor": 5
}
