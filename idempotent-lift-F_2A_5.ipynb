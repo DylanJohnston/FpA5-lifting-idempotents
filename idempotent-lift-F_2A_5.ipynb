{
 "cells": [
  {
   "cell_type": "markdown",
   "id": "23d4e6e0-4275-499e-ab4f-dee009156212",
   "metadata": {},
   "source": [
    "# Aim "
   ]
  },
  {
   "attachments": {},
   "cell_type": "markdown",
   "id": "f5b1c4ba-4fe3-4f80-a7d9-f4004ac8009e",
   "metadata": {
    "jp-MarkdownHeadingCollapsed": true
   },
   "source": [
    "Lift projective indecomposables (equiv., primitive idempotents) from $\\mathbb{F}_2A_5$ to $\\mathbb{Z}_{(2)}A_5 \\subset \\mathbb{Q}A_5$. \n",
    "\n",
    "Some character-related details are summarised below.\n",
    "\n",
    "![details of A_5 repns over various fields](-)"
   ]
  },
  {
   "cell_type": "markdown",
   "id": "99d375f0-be2b-4e0a-852c-92e2a7633a07",
   "metadata": {},
   "source": [
    "$\\mathbb{F}_2A_5$ has block structure $B_0 \\oplus B_1$, where $B_0$ is the principal block (containing $\\chi_1$, $\\widetilde{\\chi_4}$,...), and where $B_1$ is semisimple. \n",
    "\n",
    "- $B_0 \\cong P(\\chi_1) \\oplus P(\\widetilde{\\chi_4})^{\\oplus 2}$, where $P(-)$ denotes projective cover.\n",
    "- $[P(\\chi_1)] = 4[\\chi_1] + 2[\\widetilde{\\chi_4}] = 2[\\rho_{2+3}]$ (projective indecomposable of dimension 12)\n",
    "- $[P(\\widetilde{\\chi_4})] = 4[\\chi_1] + 3[\\widetilde{\\chi_4}] = [\\rho_1] + 3[\\rho_5]$  (projective indecomposable of dimension 16)\n",
    "- $\\dim(B_0) = 1 \\times 12 + 2 \\times 16 = 44$\n",
    "\n",
    "- $B_1$ is semisimple. Indeed, $B_1 \\cong P(\\chi_4)^{\\oplus 4} = (\\chi_5)^{\\oplus 4} \\cong M_{4 \\times 4}(\\mathbb{F}_2)$.\n",
    "- $\\dim(B_1) = 4 \\times 4 = 16$"
   ]
  },
  {
   "cell_type": "markdown",
   "id": "c51d0bec-322d-4d56-a193-d36fc8e0393e",
   "metadata": {},
   "source": [
    "# Quickly addressing the semisimple block, $B_1$."
   ]
  },
  {
   "cell_type": "markdown",
   "id": "57fec67d-39cc-4e32-9d14-339e57bc9ea4",
   "metadata": {},
   "source": [
    "Lifting $P(\\chi_4)$ is straightforward, as the block is semisimple. \n",
    "\n",
    "Using a bar, $\\overline{\\hspace{1ex}}$, to denote \"reduction modulo 2\". We have $\\overline{\\rho_4} = \\chi_4$. \n",
    "\n",
    "The construction of an idempotent in $\\mathbb{Q}A_5$ corresponding to $\\rho_4$ can be achieved using Young symmetrisers (in $S_5$). We find the Young symmetriser of one of the $4$-diml irreducible representation of $S_5$, $V$ (due to the fact that $\\text{Res}_{A_5}^{S_5}(V) \\cong \\rho_4$). \n",
    "\n",
    "A straightforward modification of the symmetriser associated to $V$ produces the required idempotent in $A_5$. \n",
    "\n",
    "The details are below."
   ]
  },
  {
   "cell_type": "code",
   "execution_count": 172,
   "id": "5f0d36c9-012f-4cfa-8b03-493fd6544dc1",
   "metadata": {},
   "outputs": [
    {
     "name": "stdout",
     "output_type": "stream",
     "text": [
      "e4 = f4 + f4* (idempotent in A_5) is:\n",
      "\n",
      "1/15*() + 1/15*(2,3,4) + 1/15*(2,4,3) + 1/15*(1,2)(3,4) + 1/15*(1,2,3) - 1/15*(1,2,3,4,5) + 1/15*(1,2,4) - 1/15*(1,2,4,3,5) - 1/15*(1,2,5) + 1/15*(1,3,2) + 1/15*(1,3,4) - 1/15*(1,3,5) + 1/15*(1,3)(2,4) - 1/15*(1,3,2,4,5) - 1/15*(1,3,4,2,5) + 1/15*(1,4,2) + 1/15*(1,4,3) - 1/15*(1,4,5) + 1/15*(1,4)(2,3) - 1/15*(1,4,2,3,5) - 1/15*(1,4,3,2,5) - 1/15*(1,5)(3,4) - 1/15*(1,5)(2,3) - 1/15*(1,5)(2,4)\n",
      "\n",
      "Its values on irreducible characters of A_5 are:\n",
      "\n",
      "[('ρ1', 0), ('ρ2', 0), ('ρ3', 0), ('ρ4', 1), ('ρ5', 0)]\n"
     ]
    }
   ],
   "source": [
    "S5 = groups.permutation.Symmetric(5)\n",
    "QS = GroupAlgebra(S5, QQ)\n",
    "sgn_rep = SymmetricGroupRepresentation([1]*5)\n",
    "sgn = sgn_rep.to_character()\n",
    "A5 = AlternatingGroup(5)\n",
    "irrA5 = A5.irreducible_characters()\n",
    "\n",
    "\n",
    "'''one of the 4d reps of S_5 corresponds to tableau\n",
    "[1][2][3][4]\n",
    "[5]\n",
    "'''\n",
    "\n",
    "#Young symmetriser is y=ab, where a and b are row and column (anti) symmetrisers\n",
    "a4 = sum(QS(g) for g in S5.stabilizer(5))\n",
    "b4 = sum(int(sgn(g))*QS(g) for g in S5.stabilizer(2).stabilizer(3).stabilizer(4))\n",
    "y4 = a4*b4\n",
    "f4 = 1/30*y4\n",
    "assert f4**2 == f4\n",
    "\n",
    "#To obtain idempotent of A5, we twist f4 by sign, say f4_twisted, and compute f4 + f4_twisted\n",
    "f4_twisted = sum(coeff*int(sgn(S5(element)))*QS(element) for (element, coeff) in f4)\n",
    "e4 = f4 +f4_twisted\n",
    "assert e4**2 == e4\n",
    "\n",
    "print(f\"e4 = f4 + f4* (idempotent in A_5) is:\\n\\n{e4}\\n\")\n",
    "print(f\"Its values on irreducible characters of A_5 are:\\n\\n{[(f\"ρ{indx}\", sum(coeff*char(A5(grp_ele)) for (grp_ele,coeff) in e4)) for (indx,char) in enumerate(irrA5,1)]}\")"
   ]
  },
  {
   "cell_type": "markdown",
   "id": "987bcb47-94ca-4e3e-af1e-f2dc01e4d74c",
   "metadata": {},
   "source": [
    "# Finding primitive idempotents in the principal block, $B_0$."
   ]
  },
  {
   "cell_type": "markdown",
   "id": "fac0d848-8abe-41c7-a154-d93246633973",
   "metadata": {},
   "source": [
    "Our stratgey will be to find primitive idempotents $\\overline{e} \\in \\mathbb{F}_2A_5$. Lift them to the group ring over the $2$-adic numbers $\\hat{\\mathbb{Z}_2}A_5$ (which is always possible since $\\hat{\\mathbb{Z}_2}$ is complete), and then check that, in fact, the $2$-adic coefficients are rational numbers."
   ]
  },
  {
   "cell_type": "markdown",
   "id": "c0e25f40-41f4-40e7-a4e4-80678d5d43a8",
   "metadata": {},
   "source": [
    "To do this, we need to find primitive idempotents. This is achieved as follows:\n",
    "\n",
    "- Find $CI_1$ and $CI_0$ -- the central idempotents corresponding to the blocks $B_0$ and $B_1$, respectively. For $B_1$, this is just $CI_1 = \\frac{\\rho_{4}(1)}{|G|}\\displaystyle \\sum_{g \\in G} \\overline{\\rho_{4}(g)}g$. For $B_0$, define $CI_0 = 1 - CI_1$.   \n",
    "- Take subgroup $H \\cong C_5 \\subset A_5$, and take the idempotent in $\\mathbb{Q}H \\subset \\mathbb{Q}A_5$ associated to trivial representation (of $H$). (The denominator will be $|C_5| = 5$, importantly, it doesn't contain any $2$s)\n",
    "- Reduce modulo $2$ to obtain element of $\\mathbb{F}_2H \\subset \\mathbb{F}_2A_5$. \n",
    "- Multiply by $CI_0$ to project to principal block. Call the resulting idempotent $\\overline{x}$.\n",
    "- See what we get, and go from there...\n",
    "\n",
    "These first four steps are carried out below."
   ]
  },
  {
   "cell_type": "code",
   "execution_count": 173,
   "id": "a34fcb15-a121-4a4d-b117-9cb10fbb5782",
   "metadata": {},
   "outputs": [],
   "source": [
    "FA = GroupAlgebra(A5, GF(2))\n",
    "\n",
    "#Central idempotent for block B1 is given by conjugacy class sums on character values of \\rho_4 = (4,0,1,-1,-1) for classes 1,2,3,5A,5B respectively\n",
    "CI_1_char_values = [4,0,1,-1,-1]\n",
    "conj_classes_A5 = A5.conjugacy_classes() # these classes are in the order 1,2,3,5,5, so order is compatible with above\n",
    "\n",
    "CI_1 = GF(2)(4/60)*sum(val * FA(ele) for (val, ccl) in zip(CI_1_char_values,conj_classes_A5) for ele in ccl)\n",
    "CI_0 = 1 - CI_1\n",
    "\n",
    "assert CI_1**2 == CI_1\n",
    "assert CI_0**2 == CI_0\n",
    "\n",
    "A5_subgroup_C5 = [H for H in A5.subgroups() if H.order() == 5]\n",
    "H = A5_subgroup_C5[0]\n",
    "H_triv_idempotent = GF(2)(1/H.order())*sum(FA(ele) for ele in H)\n",
    "\n",
    "assert H_triv_idempotent**2 == H_triv_idempotent\n",
    "xbar = H_triv_idempotent * CI_0"
   ]
  },
  {
   "cell_type": "markdown",
   "id": "1cef44cf-6394-4d65-83f6-f3f3f3d44465",
   "metadata": {},
   "source": [
    "We have a block decomposition of $B_0$ given by the idempotent $\\overline{x}$:\n",
    "\n",
    "$$B_0 = B_0\\overline{x} \\oplus B_0(CI_0 - \\overline{x}) = \\mathbb{F}_2A_5\\overline{x} \\oplus \\mathbb{F}_2A_5(CI_0-\\overline{x})$$\n",
    "\n",
    "We now find dimensions of these summands. \n",
    "\n",
    "For a given idempotent $e$, we find the dimension of $\\mathbb{F}_2A_5e$ by finding the rank of the $60 \\times 60$ matrix associated to the linear transformation $L(x) = xe$, $x \\in \\mathbb{F}_2A_5$ with the obvious basis of $\\mathbb{F}_2A_5$."
   ]
  },
  {
   "cell_type": "code",
   "execution_count": 174,
   "id": "445b892e-07e7-4840-b672-ec920f7e87d7",
   "metadata": {},
   "outputs": [
    {
     "name": "stdout",
     "output_type": "stream",
     "text": [
      "dimension of A(xbar) is 12\n",
      "dimension of A(CI_0-xbar) is 32\n"
     ]
    }
   ],
   "source": [
    "def Ae_matrix_rank(e, two_sided = False,return_matrix = False):\n",
    "    \"\"\"\n",
    "    Given idempotent e, find the dimension of F_5A_5e if two_sided = False, and eF_5A_5e if two_sided = True.\n",
    "    If return_matrix = True, the matrix is returned, rather than its rank.\n",
    "    \"\"\"\n",
    "    if two_sided:\n",
    "        spanning_set = [e * g * e for g in A5]\n",
    "    else:\n",
    "        spanning_set = [g * e for g in A5]\n",
    "\n",
    "    L_2d_array = []\n",
    "    for ele in spanning_set:\n",
    "        element_of_spanning_set_dict = ele.monomial_coefficients() #dict of form {'<grp_element>': <coeff>}\n",
    "        coeffs_of_element_in_spanning_set = []\n",
    "        for g in A5:\n",
    "            try:\n",
    "                coeffs_of_element_in_spanning_set.append(element_of_spanning_set_dict[g])\n",
    "            except:\n",
    "                coeffs_of_element_in_spanning_set.append(0)\n",
    "        L_2d_array.append(coeffs_of_element_in_spanning_set)\n",
    "        \n",
    "    L_matrix = Matrix(GF(2), L_2d_array)\n",
    "    rank_of_L_matrix = L_matrix.rank()\n",
    "    if return_matrix:\n",
    "        return L_matrix\n",
    "    return rank_of_L_matrix\n",
    "\n",
    "print(f\"dimension of A(xbar) is {Ae_matrix_rank(xbar)}\")\n",
    "print(f\"dimension of A(CI_0-xbar) is {Ae_matrix_rank(CI_0-xbar)}\")"
   ]
  },
  {
   "cell_type": "markdown",
   "id": "8d7a2c71-cb5c-482b-82cb-46d69a2dc226",
   "metadata": {},
   "source": [
    "- $B_0\\overline{x} = \\mathbb{F}_2A_5\\overline{x}$ has dimension $12$, and therefore $B_0\\overline{x} \\cong P(\\chi_1)$.\n",
    "\n",
    "- $B_0(CI_0 - \\overline{x}) = \\mathbb{F}_2A_5(CI_0 - \\overline{x})$ has dimension $32$, and therefore $B_0(CI_0 - \\overline{x}) \\cong P(\\widetilde{\\chi_4})^{\\oplus 2}$.\n",
    "\n",
    "- Define $\\overline{y} = CI_0 - \\overline{x}$. So, $\\overline{x} + \\overline{y} = CI_0$\n",
    "\n",
    "Moreover...\n",
    "\n",
    "In fact, (primitive) idempotents corresponding to $P(\\chi_1)$ and $P(\\widetilde{\\chi_4})$ must lie in the **two sided ideals** $\\overline{x}(B_0)\\overline{x} = \\overline{x}(\\mathbb{F}_2A_5)\\overline{x}$ and $\\overline{y}(B_0)\\overline{y} = \\overline{y}(\\mathbb{F}_2A_5)\\overline{y}$ respectively.\n",
    "\n",
    "Indeed, a (primitive) idempotent $e$ yields a (indecomposable) module $Ae$, and $\\text{End}_A(Ae) = eAe$, so $e \\in \\text{End}_A(Ae)$. Moreover, $\\text{End}(P) \\subset \\text{End}(P \\oplus Q)$.\n",
    "\n",
    "Next up...\n",
    "\n",
    "We construct bases of $\\overline{x}(B_0)\\overline{x} = \\overline{x}(\\mathbb{F}_2A_5)\\overline{x}$ and $\\overline{y}(B_0)\\overline{x} = \\overline{x}(\\mathbb{F}_2A_5)\\overline{y}$ (it turns out that their dimensions are 4 and 24 respectively, see below)."
   ]
  },
  {
   "cell_type": "code",
   "execution_count": 175,
   "id": "9a194f43-b11f-42d9-904f-7cf1815e58af",
   "metadata": {},
   "outputs": [
    {
     "name": "stdout",
     "output_type": "stream",
     "text": [
      "dimension of xbar(F_2A_5)xbar is 4\n",
      "\n",
      "dimension of xbar(F_2A_5)ybar is 24\n",
      "\n"
     ]
    }
   ],
   "source": [
    "ybar = CI_0 - xbar\n",
    "\n",
    "print(f\"dimension of xbar(F_2A_5)xbar is {Ae_matrix_rank(xbar, two_sided = True)}\\n\") #dimension is 4\n",
    "print(f\"dimension of xbar(F_2A_5)ybar is {Ae_matrix_rank(ybar, two_sided = True)}\\n\") #dimension is 24\n",
    "\n",
    "def coeffs_of_basis_two_sided(e):\n",
    "    \"\"\"\n",
    "    Given idempotent e, finds the coefficients of the basis of eAe, where A = F_5A_5\n",
    "    (ordering of coeffs follows order of [g for g in AlternatingGroup(5)])\n",
    "    \"\"\"\n",
    "    coeff_matrix = Ae_matrix_rank(e, two_sided = True, return_matrix = True)\n",
    "    \n",
    "    return [row for row in coeff_matrix.rref().rows() if row.is_zero() == False]\n",
    "\n",
    "xAx_basis_coeffs = coeffs_of_basis_two_sided(xbar)\n",
    "xAx_basis = [sum(coeff * FA(g) for (coeff,g) in zip(coeffs,A5)) for coeffs in xAx_basis_coeffs]\n",
    "\n",
    "yAy_basis_coeffs = coeffs_of_basis_two_sided(ybar)\n",
    "yAy_basis = [sum(coeff * FA(g) for (coeff,g) in zip(coeffs,A5)) for coeffs in yAy_basis_coeffs]"
   ]
  },
  {
   "cell_type": "markdown",
   "id": "14260a4a-479c-4a90-8232-c4242b25def7",
   "metadata": {},
   "source": [
    "We have bases of $\\overline{x}(\\mathbb{F}_2A_5)\\overline{x}$ (of dimension $4$) and $\\overline{y}(\\mathbb{F}_2A_5)\\overline{y}$ (of dimension $24$) . There are $|\\{0,1\\}|^4 = 16$ elements and $|\\{0,1\\}|^{24} = 2^{24}$ elements respectively. We brute force them to find idempotents, $e$, stopping once we find one such that $\\dim(\\mathbb{F}_2A_5e) = 12$ and $\\dim(\\mathbb{F}_5A_5e) = 16$"
   ]
  },
  {
   "cell_type": "code",
   "execution_count": 176,
   "id": "10e0b714-9462-4091-8d19-62c1f3af395a",
   "metadata": {},
   "outputs": [
    {
     "name": "stdout",
     "output_type": "stream",
     "text": [
      "A primitive idempotent of F2A5 yielding the indecomposable projective P(chi_1) of dimension 12 is:\n",
      "\n",
      "() + (1,2,3,4,5) + (1,3,5,2,4) + (1,4,2,5,3) + (1,5,4,3,2)\n",
      "\n",
      "\n",
      "A primitive idempotent of F2A5 yielding the indecomposable projective P(~chi_4~) of dimension 16 is:\n",
      "\n",
      "(2,3)(4,5) + (2,3,5) + (2,4,5) + (2,5,3) + (1,2,3) + (1,2,3,5,4) + (1,2,4) + (1,2,5,4,3) + (1,3,4,5,2) + (1,3)(2,4) + (1,3,2,4,5) + (1,3,4,2,5) + (1,4,2) + (1,4,3,5,2) + (1,4,2,3,5) + (1,4)(2,5) + (1,5,3,4,2) + (1,5,4,2,3) + (1,5)(2,3) + (1,5,2,3,4)\n"
     ]
    }
   ],
   "source": [
    "possible_coeffs_x = cartesian_product([[0,1]] * 4)\n",
    "idem_P1 = None\n",
    "\n",
    "for coeffs in possible_coeffs_x:\n",
    "    test_element = sum(coeff * ele for (coeff,ele) in zip(coeffs, xAx_basis))\n",
    "    if test_element**2 == test_element:\n",
    "        if (not idem_P1) and Ae_matrix_rank(test_element) == 12:\n",
    "           idem_P1 = test_element\n",
    "           break\n",
    "\n",
    "possible_coeffs_y = cartesian_product([[0,1]] * 24)\n",
    "idem_P4 = None\n",
    "\n",
    "for coeffs in possible_coeffs_y:\n",
    "    test_element = sum(coeff * ele for (coeff,ele) in zip(coeffs, yAy_basis))\n",
    "    if test_element**2 == test_element:\n",
    "        if (not idem_P4) and Ae_matrix_rank(test_element) == 16:\n",
    "           idem_P4 = test_element\n",
    "           break\n",
    "\n",
    "assert idem_P1**2 == idem_P1\n",
    "assert Ae_matrix_rank(idem_P1) == 12\n",
    "\n",
    "assert idem_P4**2 == idem_P4\n",
    "assert Ae_matrix_rank(idem_P4) == 16\n",
    "\n",
    "print(f\"A primitive idempotent of F2A5 yielding the indecomposable projective P(chi_1) of dimension 12 is:\\n\\n{idem_P1}\\n\\n\")\n",
    "print(f\"A primitive idempotent of F2A5 yielding the indecomposable projective P(~chi_4~) of dimension 16 is:\\n\\n{idem_P4}\")"
   ]
  },
  {
   "cell_type": "markdown",
   "id": "c15f20e6-930a-4394-bd6e-edd4f36ca818",
   "metadata": {},
   "source": [
    "# Lifting primitive idempotents from $\\mathbb{F}_2A_5$ to $\\mathbb{Z}_{(2)}A_5$"
   ]
  },
  {
   "cell_type": "markdown",
   "id": "fe43196c-3938-43f1-8eb2-848cea240628",
   "metadata": {},
   "source": [
    "To lift, we lift to the group algebra over the $2$-adic integers, $\\hat{\\mathbb{Z}_2}A_5$, and then check if, in fact, our coefficients are rational. A $2$-adic integer with repeating digits is rational.\n",
    "\n",
    "### Lifting from $\\mathbb{F}_2A_5$ to $\\hat{\\mathbb{Z}_2}A_5$\n",
    "\n",
    "As $\\hat{\\mathbb{Q}_2}$ (the $2$-adic numbers) are complete, it is always possible to perform such a lift. \n",
    "\n",
    "In practice, we lift to $\\mathbb{Z}/2^c\\mathbb{Z}$, which will give us the first $c$ coefficients of the lift.\n",
    "\n",
    "As we are hoping for the coefficients to repeat  (since we work under the assumption that our $2$-adic coefficients are in fact rational), we hope to spot a repeating pattern in the first $c$ coefficients, for some reasonably small $c$.\n",
    "\n",
    "Then, assuming repeating patterns exist (spoiler: they do). We calculate the rational coefficients and check idempotency. \n",
    "\n",
    "### The iterative process (how to actually lift).\n",
    "\n",
    "- We start with any lift from $\\mathbb{F}_2A_5$ to $\\mathbb{Z}_{(2)}A_5 \\subset \\mathbb{Q}A_5$. The naive lift induced from set map $\\mathbb{F}_2 \\rightarrow \\mathbb{Z}; \\{\\overline{0},\\overline{1}\\} \\mapsto \\{0,1\\}$ will do. \n",
    "- Denote this initial lift by $e_0$. Then $e_0 = \\bar{e}\\, (\\text{mod } 2)$, but $e_0$ is (almost certainly) not an idempotent.\n",
    "- Iteratively define $e_{k+1} = e_k^2$. \n",
    "- If $e_k \\equiv \\bar{e} \\, (\\text{mod } 2)$, then $e_{k+1}\\equiv e_k^2 \\equiv \\overline{e} \\, (\\text{mod } 2) $. So, by induction, all the $e_i$ are lifts of $\\bar{e}$.\n",
    "- Define $\\delta_k = e_k^2 - e_k$. This is the error/defect term (a measure of how far $e_k$ is for being idempotent).\n",
    "- Claim: If $\\delta_k \\equiv 0\\, (\\text{mod } 2^n)$ then $\\delta_{k+1} \\equiv 0\\, (\\text{mod } 2^{n+1})$. The proof is to show that $\\delta_{k+1} = 2\\delta_k(\\text{stuff})$.\n",
    "- Thus, $\\delta_0 \\equiv 0\\, (\\text{mod } 2^1)$, $\\delta_1 \\equiv 0\\, (\\text{mod } 2^2=4)$, $\\delta_2 \\equiv 0\\, (\\text{mod } 2^3=8)$, $\\delta_3 \\equiv 0\\, (\\text{mod } 2^4=16)$, etc\n",
    "- If we work in the ring $\\mathbb{Z}/2^c\\mathbb{Z}$, then this iterative process stabilises whenever $K$ is such that $K > c$.\n",
    "\n",
    "\n",
    "- This process will find the first $c$ $2$-adic coefficients of each element $g \\in A_5$ of the lift."
   ]
  },
  {
   "cell_type": "code",
   "execution_count": 177,
   "id": "127963b2-4d50-4bd5-afd9-8477c8131b0c",
   "metadata": {},
   "outputs": [],
   "source": [
    "def refine_lift(initial_lift, num_coeffs):\n",
    "    c = num_coeffs\n",
    "    N = 2**c\n",
    "    RA = GroupAlgebra(A5,IntegerModRing(N))\n",
    "    old_lift = None\n",
    "    current_lift = sum(int(coeff)*RA(ele) for (ele,coeff) in initial_lift.monomial_coefficients().items())\n",
    "    while current_lift != old_lift:\n",
    "        old_lift = current_lift\n",
    "        current_lift = current_lift**2\n",
    "    return current_lift\n",
    "\n",
    "def int_coeffs_to_2adic(ele_coeff_dict, num_coeffs):\n",
    "    \"\"\"\n",
    "    Takes a dictionary with entries <str>:<int> and computes the first `num_coeffs` terms of 2-adic expansion of <int> (this is just base 2 number)\n",
    "    \"\"\"\n",
    "    def int_to_base2(n):\n",
    "        n %= 2**num_coeffs #our values will only be accurate to `num_coeffs` 2-adic places, so anything beyond 2^num_coeffs is nonsense\n",
    "        expansion = ''\n",
    "        for i in range(num_coeffs):\n",
    "            expansion = str(n%2)+expansion\n",
    "            n = n // 2\n",
    "        return '...'+expansion\n",
    "    expansion_dict = dict()\n",
    "    for key,val in ele_coeff_dict.items():\n",
    "        expansion_dict[key] = int_to_base2(int(val))\n",
    "    return expansion_dict\n",
    "\n",
    "#TODO\n",
    "def rational_from_repeating_2_adic(expansion:str,preperiod=4, period=12):\n",
    "    \"\"\"\n",
    "    Takes a 2-adic expansion (passed as a string) of the form (<period nums>)<preperiod nums> and returns the fraction it represents.\n",
    "    e.g. if preperiod = 3, period = 4\n",
    "    x = (abcd)abcdefg\n",
    "    2^{period}x = (abcd)efg0000 (everything shifts 'period' places to the left)\n",
    "    => (2^{period}-1)x = efg0000 - abcdefg (remember: subtract base 2, then convert to decimal)\n",
    "    => x = 1/(2^{period}-1) * (efg0000 - abcdefg)\n",
    "    \"\"\"\n",
    "    required_num_of_coeffs = preperiod + period #e.g. docstring example. We require 7 coefficients, namely a,b,c,d,e,f,g\n",
    "    required_base_2_coeffs = list(map(int,expansion[-required_num_of_coeffs:]))\n",
    "    numerator = sum(coeff*2**(required_num_of_coeffs-ind) for (ind,coeff) in enumerate(required_base_2_coeffs[period:],1))\\\n",
    "                - sum(coeff*2**(required_num_of_coeffs-ind) for (ind,coeff) in enumerate(required_base_2_coeffs,1))\n",
    "    return numerator/Integer(2**period-1)"
   ]
  },
  {
   "cell_type": "markdown",
   "id": "073268d8-8940-4ab2-aa96-979b61c4032a",
   "metadata": {},
   "source": [
    "## Lifting the idempotent in $\\mathbb{F}_2A_5$ associated to $P(\\chi_1)$ (of dimension 12)."
   ]
  },
  {
   "cell_type": "code",
   "execution_count": 178,
   "id": "fcf6b3c8-26b3-4ec6-96d1-d8ff3482cf43",
   "metadata": {},
   "outputs": [
    {
     "name": "stdout",
     "output_type": "stream",
     "text": [
      "Rational idempotent associated to rational lift of P(chi_1) (of dimension 12) is\n",
      "\n",
      "1/5*() + 1/5*(1,2,3,4,5) + 1/5*(1,3,5,2,4) + 1/5*(1,4,2,5,3) + 1/5*(1,5,4,3,2)\n",
      "\n",
      "\n",
      "A dataframe displaying 2-adic coefficients, as well as rational coefficients for each term in the rational lift:\n",
      "\n",
      "                                                                                                 2-adic coefficients  \\\n",
      "A5 element                                                                                                             \n",
      "()           ...1100110011001100110011001100110011001100110011001100110011001100110011001100110011001100110011001101   \n",
      "(1,5,4,3,2)  ...1100110011001100110011001100110011001100110011001100110011001100110011001100110011001100110011001101   \n",
      "(1,4,2,5,3)  ...1100110011001100110011001100110011001100110011001100110011001100110011001100110011001100110011001101   \n",
      "(1,3,5,2,4)  ...1100110011001100110011001100110011001100110011001100110011001100110011001100110011001100110011001101   \n",
      "(1,2,3,4,5)  ...1100110011001100110011001100110011001100110011001100110011001100110011001100110011001100110011001101   \n",
      "\n",
      "            rational_coefficients  \n",
      "A5 element                         \n",
      "()                            1/5  \n",
      "(1,5,4,3,2)                   1/5  \n",
      "(1,4,2,5,3)                   1/5  \n",
      "(1,3,5,2,4)                   1/5  \n",
      "(1,2,3,4,5)                   1/5  \n",
      "\n"
     ]
    }
   ],
   "source": [
    "###############\n",
    "# For idem_P1 #\n",
    "###############\n",
    "\n",
    "import pandas as pd\n",
    "pd.set_option('display.max_colwidth', None)\n",
    "\n",
    "\n",
    "QA = GroupAlgebra(A5,QQ)\n",
    "num_coeffs_of_accuracy_in_lift_refinement = 100\n",
    "\n",
    "#obtain initial lift, refine it, then write coefficients 3-adically.\n",
    "initial_lift_of_idem_P1 = sum(int(coeff)*QA(g) for (g,coeff) in idem_P1.monomial_coefficients().items())\n",
    "refined_lift_of_idem_P1 = refine_lift(initial_lift_of_idem_P1, num_coeffs_of_accuracy_in_lift_refinement)\n",
    "refined_lift_of_idem_P1_2_adic_coefficients = int_coeffs_to_2adic(refined_lift_of_idem_P1.monomial_coefficients(), num_coeffs_of_accuracy_in_lift_refinement)\n",
    "\n",
    "idem_P1_lift_df = pd.DataFrame.from_dict(refined_lift_of_idem_P1_2_adic_coefficients, orient='index',columns=['2-adic coefficients'])\n",
    "#the preperiod, period argument in the next line's `rational_from_repeating_2_adic` function call were found via printing the df (so the logic is slightly out of order).\n",
    "idem_P1_lift_df['rational_coefficients'] = idem_P1_lift_df['2-adic coefficients'].apply(lambda x: rational_from_repeating_2_adic(x,preperiod=4, period=4))\n",
    "idem_P1_lift_df.index.name = \"A5 element\"\n",
    "\n",
    "rational_lift_P1 = (idem_P1_lift_df.index.to_series().apply(lambda x: QA(x)) * idem_P1_lift_df['rational_coefficients']).sum()\n",
    "\n",
    "#Idempotent?\n",
    "assert rational_lift_P1**2 == rational_lift_P1\n",
    "#Does our rational lift reduce modulo 5 to idem_P1?\n",
    "assert sum(GF(2)(coeff)*FA(ele) for (ele,coeff) in rational_lift_P1.monomial_coefficients().items()) == idem_P1\n",
    "\n",
    "print(f\"Rational idempotent associated to rational lift of P(chi_1) (of dimension 12) is\\n\\n{rational_lift_P1}\\n\\n\")\n",
    "print(f\"A dataframe displaying 2-adic coefficients, as well as rational coefficients for each term in the rational lift:\\n\\n{idem_P1_lift_df}\\n\")"
   ]
  },
  {
   "cell_type": "markdown",
   "id": "519042ef-92ab-4841-9e85-e411088fd70e",
   "metadata": {},
   "source": [
    "## Lifting the idempotent in $\\mathbb{F}_2A_5$ associated to $P(\\widetilde{\\chi_4})$ (of dimension 16)."
   ]
  },
  {
   "cell_type": "code",
   "execution_count": 179,
   "id": "48e25fc9-df79-4eeb-a148-afbc77b51b33",
   "metadata": {},
   "outputs": [
    {
     "name": "stdout",
     "output_type": "stream",
     "text": [
      "Rational idempotent associated to rational lift of P(~chi_4~) (of dimension 16) is\n",
      "\n",
      "4/15*() + 118/1995*(3,4,5) - 22/95*(3,5,4) + 109/285*(2,3)(4,5) - 306/665*(2,3,4) - 103/1995*(2,3,5) - 88/665*(2,4,3) - 211/1995*(2,4,5) + 8/57*(2,4)(3,5) - 17/285*(2,5,3) - 12/665*(2,5,4) + 4/19*(2,5)(3,4) - 6/19*(1,2)(4,5) + 146/1995*(1,2)(3,4) - 4/95*(1,2)(3,5) + 109/285*(1,2,3) - 26/285*(1,2,3,4,5) - 127/1995*(1,2,3,5,4) - 88/665*(1,2,4,5,3) + 11/57*(1,2,4) + 496/1995*(1,2,4,3,5) - 17/285*(1,2,5,4,3) - 8/399*(1,2,5) - 344/1995*(1,2,5,3,4) - 6/19*(1,3,2) - 67/665*(1,3,4,5,2) + 268/665*(1,3,5,4,2) + 4/15*(1,3)(4,5) + 22/95*(1,3,4) - 166/665*(1,3,5) - 211/1995*(1,3)(2,4) + 11/57*(1,3,2,4,5) - 98/285*(1,3,5,2,4) - 12/665*(1,3)(2,5) - 8/399*(1,3,2,5,4) + 17/285*(1,3,4,2,5) + 146/1995*(1,4,5,3,2) - 67/665*(1,4,2) - 1/57*(1,4,3,5,2) + 118/1995*(1,4,3) + 22/95*(1,4,5) - 8/105*(1,4)(3,5) - 306/665*(1,4,5,2,3) - 26/285*(1,4)(2,3) + 27/95*(1,4,2,3,5) + 4/19*(1,4,2,5,3) - 344/1995*(1,4,3,2,5) + 17/285*(1,4)(2,5) - 4/95*(1,5,4,3,2) + 268/665*(1,5,2) - 1/57*(1,5,3,4,2) - 22/95*(1,5,3) - 166/665*(1,5,4) - 8/105*(1,5)(3,4) - 103/1995*(1,5,4,2,3) - 127/1995*(1,5)(2,3) + 27/95*(1,5,2,3,4) + 8/57*(1,5,2,4,3) + 496/1995*(1,5,3,2,4) - 98/285*(1,5)(2,4)\n",
      "\n",
      "\n",
      "A dataframe displaying 2-adic coefficients, as well as rational coefficients for each term in the rational lift:\n",
      "\n",
      "                                                                                                 2-adic coefficients  \\\n",
      "(1,5,3,4,2)  ...0111110111000001000111110111000001000111110111000001000111110111000001000111110111000001000111110111   \n",
      "(1,3,4,5,2)  ...1100101011100000000011000101000110011100101011100000000011000101000110011100101011100000000011000101   \n",
      "(1,4,3,5,2)  ...0111110111000001000111110111000001000111110111000001000111110111000001000111110111000001000111110111   \n",
      "(1,5,4,2,3)  ...0011011110010000000110101011000011010011011110010000000110101011000011010011011110010000000110101011   \n",
      "(1,4)(2,5)   ...1011101011010101110010000100111100001011101011010101110010000100111100001011101011010101110010000101   \n",
      "(1,2,4)      ...1001100010110011101001100010110011101001100010110011101001100010110011101001100010110011101001100011   \n",
      "(1,3,2,4,5)  ...1001100010110011101001100010110011101001100010110011101001100010110011101001100010110011101001100011   \n",
      "(1,2,3)      ...0001011101011010101110010000100111100001011101011010101110010000100111100001011101011010101110010001   \n",
      "(2,3,5)      ...0011011110010000000110101011000011010011011110010000000110101011000011010011011110010000000110101011   \n",
      "(1,5,2,3,4)  ...0011110111111010100111000100101101110011110111111010100111000100101101110011110111111010100111000101   \n",
      "(1,3)(2,4)   ...0001001101100000010111100111000110110001001101100000010111100111000110110001001101100000010111100111   \n",
      "(1,2,3,5,4)  ...0100101111110111010001100011000100000100101111110111010001100011000100000100101111110111010001100011   \n",
      "(2,5,3)      ...0100010100101010001101111011000011110100010100101010001101111011000011110100010100101010001101111011   \n",
      "(1,4,2)      ...1100101011100000000011000101000110011100101011100000000011000101000110011100101011100000000011000101   \n",
      "(1,2,5,4,3)  ...0100010100101010001101111011000011110100010100101010001101111011000011110100010100101010001101111011   \n",
      "(2,3)(4,5)   ...0001011101011010101110010000100111100001011101011010101110010000100111100001011101011010101110010001   \n",
      "(1,3,4,2,5)  ...1011101011010101110010000100111100001011101011010101110010000100111100001011101011010101110010000101   \n",
      "(1,4,2,3,5)  ...0011110111111010100111000100101101110011110111111010100111000100101101110011110111111010100111000101   \n",
      "(2,4,5)      ...0001001101100000010111100111000110110001001101100000010111100111000110110001001101100000010111100111   \n",
      "(1,5)(2,3)   ...0100101111110111010001100011000100000100101111110111010001100011000100000100101111110111010001100011   \n",
      "(1,3)(4,5)   ...1011101110111011101110111011101110111011101110111011101110111011101110111011101110111011101110111100   \n",
      "(1,4,3)      ...1101101110101111011010100001111100001101101110101111011010100001111100001101101110101111011010100010   \n",
      "(1,5)(2,4)   ...0000011100101111100110110110010110000000011100101111100110110110010110000000011100101111100110110110   \n",
      "(1,4)(3,5)   ...1000000100111000000100111000000100111000000100111000000100111000000100111000000100111000000100111000   \n",
      "(1,2,5,3,4)  ...0010010001110001011011111000001011000010010001110001011011111000001011000010010001110001011011111000   \n",
      "(1,2,5)      ...0010001000000001010010001000000001010010001000000001010010001000000001010010001000000001010010001000   \n",
      "()           ...1011101110111011101110111011101110111011101110111011101110111011101110111011101110111011101110111100   \n",
      "(1,5,4)      ...1110011101011100110001101010001111111110011101011100110001101010001111111110011101011100110001101010   \n",
      "(1,4,2,5,3)  ...0001101011110010100001101011110010100001101011110010100001101011110010100001101011110010100001101100   \n",
      "(1,2,4,3,5)  ...0101101001010110011111001111110000000101101001010110011111001111110000000101101001010110011111010000   \n",
      "(1,3,5,4,2)  ...1101010001111111110011101011100110001101010001111111110011101011100110001101010001111111110011101100   \n",
      "(3,4,5)      ...1101101110101111011010100001111100001101101110101111011010100001111100001101101110101111011010100010   \n",
      "(1,5,2)      ...1101010001111111110011101011100110001101010001111111110011101011100110001101010001111111110011101100   \n",
      "(1,5,2,4,3)  ...0001000111110111000001000111110111000001000111110111000001000111110111000001000111110111000001001000   \n",
      "(1,2,3,4,5)  ...0101101010111001000010011110000101110101101010111001000010011110000101110101101010111001000010011110   \n",
      "(1,3,4)      ...1011011100111101111110101001110001001011011100111101111110101001110001001011011100111101111110101010   \n",
      "(1,2)(4,5)   ...1101011110010100001101011110010100001101011110010100001101011110010100001101011110010100001101011110   \n",
      "(2,5,4)      ...1001111010011010110000010100000001001001111010011010110000010100000001001001111010011010110000010100   \n",
      "(3,5,4)      ...0100100011000010000001010110001110110100100011000010000001010110001110110100100011000010000001010110   \n",
      "(1,4,5,2,3)  ...1100110001101010001111111110011101011100110001101010001111111110011101011100110001101010001111111110   \n",
      "(1,2)(3,5)   ...1100011101101001000110000100000010101100011101101001000110000100000010101100011101101001000110000100   \n",
      "(1,3,5,2,4)  ...0000011100101111100110110110010110000000011100101111100110110110010110000000011100101111100110110110   \n",
      "(2,3,4)      ...1100110001101010001111111110011101011100110001101010001111111110011101011100110001101010001111111110   \n",
      "(1,4,5,3,2)  ...0100001111100001101101110101111011010100001111100001101101110101111011010100001111100001101101110110   \n",
      "(1,3)(2,5)   ...1001111010011010110000010100000001001001111010011010110000010100000001001001111010011010110000010100   \n",
      "(2,4,3)      ...1110000001101110110111101000001000011110000001101110110111101000001000011110000001101110110111101000   \n",
      "(1,3,2)      ...1101011110010100001101011110010100001101011110010100001101011110010100001101011110010100001101011110   \n",
      "(1,4,3,2,5)  ...0010010001110001011011111000001011000010010001110001011011111000001011000010010001110001011011111000   \n",
      "(1,2,4,5,3)  ...1110000001101110110111101000001000011110000001101110110111101000001000011110000001101110110111101000   \n",
      "(1,5)(3,4)   ...1000000100111000000100111000000100111000000100111000000100111000000100111000000100111000000100111000   \n",
      "(1,4,5)      ...1011011100111101111110101001110001001011011100111101111110101001110001001011011100111101111110101010   \n",
      "(1,2)(3,4)   ...0100001111100001101101110101111011010100001111100001101101110101111011010100001111100001101101110110   \n",
      "(1,5,4,3,2)  ...1100011101101001000110000100000010101100011101101001000110000100000010101100011101101001000110000100   \n",
      "(1,5,3)      ...0100100011000010000001010110001110110100100011000010000001010110001110110100100011000010000001010110   \n",
      "(2,4)(3,5)   ...0001000111110111000001000111110111000001000111110111000001000111110111000001000111110111000001001000   \n",
      "(1,5,3,2,4)  ...0101101001010110011111001111110000000101101001010110011111001111110000000101101001010110011111010000   \n",
      "(1,3,5)      ...1110011101011100110001101010001111111110011101011100110001101010001111111110011101011100110001101010   \n",
      "(1,3,2,5,4)  ...0010001000000001010010001000000001010010001000000001010010001000000001010010001000000001010010001000   \n",
      "(1,4)(2,3)   ...0101101010111001000010011110000101110101101010111001000010011110000101110101101010111001000010011110   \n",
      "(2,5)(3,4)   ...0001101011110010100001101011110010100001101011110010100001101011110010100001101011110010100001101100   \n",
      "\n",
      "            rational_coefficients  \n",
      "(1,5,3,4,2)                 -1/57  \n",
      "(1,3,4,5,2)               -67/665  \n",
      "(1,4,3,5,2)                 -1/57  \n",
      "(1,5,4,2,3)             -103/1995  \n",
      "(1,4)(2,5)                 17/285  \n",
      "(1,2,4)                     11/57  \n",
      "(1,3,2,4,5)                 11/57  \n",
      "(1,2,3)                   109/285  \n",
      "(2,3,5)                 -103/1995  \n",
      "(1,5,2,3,4)                 27/95  \n",
      "(1,3)(2,4)              -211/1995  \n",
      "(1,2,3,5,4)             -127/1995  \n",
      "(2,5,3)                   -17/285  \n",
      "(1,4,2)                   -67/665  \n",
      "(1,2,5,4,3)               -17/285  \n",
      "(2,3)(4,5)                109/285  \n",
      "(1,3,4,2,5)                17/285  \n",
      "(1,4,2,3,5)                 27/95  \n",
      "(2,4,5)                 -211/1995  \n",
      "(1,5)(2,3)              -127/1995  \n",
      "(1,3)(4,5)                   4/15  \n",
      "(1,4,3)                  118/1995  \n",
      "(1,5)(2,4)                -98/285  \n",
      "(1,4)(3,5)                 -8/105  \n",
      "(1,2,5,3,4)             -344/1995  \n",
      "(1,2,5)                    -8/399  \n",
      "()                           4/15  \n",
      "(1,5,4)                  -166/665  \n",
      "(1,4,2,5,3)                  4/19  \n",
      "(1,2,4,3,5)              496/1995  \n",
      "(1,3,5,4,2)               268/665  \n",
      "(3,4,5)                  118/1995  \n",
      "(1,5,2)                   268/665  \n",
      "(1,5,2,4,3)                  8/57  \n",
      "(1,2,3,4,5)               -26/285  \n",
      "(1,3,4)                     22/95  \n",
      "(1,2)(4,5)                  -6/19  \n",
      "(2,5,4)                   -12/665  \n",
      "(3,5,4)                    -22/95  \n",
      "(1,4,5,2,3)              -306/665  \n",
      "(1,2)(3,5)                  -4/95  \n",
      "(1,3,5,2,4)               -98/285  \n",
      "(2,3,4)                  -306/665  \n",
      "(1,4,5,3,2)              146/1995  \n",
      "(1,3)(2,5)                -12/665  \n",
      "(2,4,3)                   -88/665  \n",
      "(1,3,2)                     -6/19  \n",
      "(1,4,3,2,5)             -344/1995  \n",
      "(1,2,4,5,3)               -88/665  \n",
      "(1,5)(3,4)                 -8/105  \n",
      "(1,4,5)                     22/95  \n",
      "(1,2)(3,4)               146/1995  \n",
      "(1,5,4,3,2)                 -4/95  \n",
      "(1,5,3)                    -22/95  \n",
      "(2,4)(3,5)                   8/57  \n",
      "(1,5,3,2,4)              496/1995  \n",
      "(1,3,5)                  -166/665  \n",
      "(1,3,2,5,4)                -8/399  \n",
      "(1,4)(2,3)                -26/285  \n",
      "(2,5)(3,4)                   4/19  \n",
      "\n"
     ]
    }
   ],
   "source": [
    "###############\n",
    "# For idem_P4 #\n",
    "###############\n",
    "\n",
    "#obtain initial lift, refine it, then write coefficients 3-adically.\n",
    "initial_lift_of_idem_P4 = sum(int(coeff)*QA(g) for (g,coeff) in idem_P4.monomial_coefficients().items())\n",
    "refined_lift_of_idem_P4 = refine_lift(initial_lift_of_idem_P4, num_coeffs_of_accuracy_in_lift_refinement)\n",
    "refined_lift_of_idem_P4_2_adic_coefficients = int_coeffs_to_2adic(refined_lift_of_idem_P4.monomial_coefficients(), num_coeffs_of_accuracy_in_lift_refinement)\n",
    "\n",
    "idem_P4_lift_df = pd.DataFrame.from_dict(refined_lift_of_idem_P4_2_adic_coefficients, orient='index',columns=['2-adic coefficients'])\n",
    "idem_P4_lift_df['rational_coefficients'] = idem_P4_lift_df['2-adic coefficients'].apply(lambda x: rational_from_repeating_2_adic(x,preperiod=8, period=36))\n",
    "\n",
    "rational_lift_P4 = (idem_P4_lift_df.index.to_series().apply(lambda x: QA(x)) * idem_P4_lift_df['rational_coefficients']).sum()\n",
    "\n",
    "#Idempotent?\n",
    "assert rational_lift_P4**2 == rational_lift_P4\n",
    "#Does our rational lift reduce modulo 2 to idem_P4?\n",
    "assert sum(GF(2)(coeff)*FA(ele) for (ele,coeff) in rational_lift_P4.monomial_coefficients().items()) == idem_P4\n",
    "\n",
    "print(f\"Rational idempotent associated to rational lift of P(~chi_4~) (of dimension 16) is\\n\\n{rational_lift_P4}\\n\\n\")\n",
    "print(f\"A dataframe displaying 2-adic coefficients, as well as rational coefficients for each term in the rational lift:\\n\\n{idem_P4_lift_df}\\n\")"
   ]
  },
  {
   "cell_type": "markdown",
   "id": "2d38a42d-68f2-4ee8-800b-f1c68806bbc9",
   "metadata": {},
   "source": [
    "## Checking dimensions (A sanity check)."
   ]
  },
  {
   "cell_type": "code",
   "execution_count": 180,
   "id": "ae7a709f-9dd1-40e2-b006-e8043a53c21e",
   "metadata": {},
   "outputs": [
    {
     "name": "stdout",
     "output_type": "stream",
     "text": [
      "The dimension of QA_5*(rational_lift_P1) as a Q-vector space is 12\n",
      "\n",
      "The dimension of QA_5*(rational_lift_P4) as a Q-vector space is 16\n"
     ]
    }
   ],
   "source": [
    "\"\"\"\n",
    "We have seen this function before, namely `Ae_matrix_rank` (but here the matrix is over QQ, rather than F_3).\n",
    "Rather than create a distraction by adding another argument in the prior version of the function, we just redefine it... \n",
    "\"\"\"\n",
    "def dimQA5e(e):\n",
    "    \"\"\"\n",
    "    Given idempotent e, find the dimension of QA_5e\n",
    "    \"\"\"\n",
    "    spanning_set = [g * e for g in A5]\n",
    "    L_2d_array = []\n",
    "    for ele in spanning_set:\n",
    "        element_of_spanning_set_dict = ele.monomial_coefficients() #dict of form {'<grp_element>': <coeff>}\n",
    "        coeffs_of_element_in_spanning_set = []\n",
    "        for g in A5:\n",
    "            try:\n",
    "                coeffs_of_element_in_spanning_set.append(element_of_spanning_set_dict[g])\n",
    "            except:\n",
    "                coeffs_of_element_in_spanning_set.append(0)\n",
    "        L_2d_array.append(coeffs_of_element_in_spanning_set)        \n",
    "    L_matrix = Matrix(QQ, L_2d_array)\n",
    "    rank_of_L_matrix = L_matrix.rank()\n",
    "    return rank_of_L_matrix\n",
    "\n",
    "print(f\"The dimension of QA_5*(rational_lift_P1) as a Q-vector space is {dimQA5e(rational_lift_P1)}\\n\")\n",
    "print(f\"The dimension of QA_5*(rational_lift_P4) as a Q-vector space is {dimQA5e(rational_lift_P4)}\")"
   ]
  }
 ],
 "metadata": {
  "kernelspec": {
   "display_name": "SageMath 10.6",
   "language": "sage",
   "name": "sagemath"
  },
  "language_info": {
   "codemirror_mode": {
    "name": "ipython",
    "version": 3
   },
   "file_extension": ".py",
   "mimetype": "text/x-python",
   "name": "python",
   "nbconvert_exporter": "python",
   "pygments_lexer": "ipython3",
   "version": "3.12.11"
  }
 },
 "nbformat": 4,
 "nbformat_minor": 5
}
